{
 "cells": [
  {
   "cell_type": "code",
   "execution_count": null,
   "metadata": {},
   "outputs": [],
   "source": [
    "import sys\n",
    "sys.path.insert(1, 'utils')\n",
    "from utils import *\n",
    "from data_manipulation import *\n",
    "pd.options.display.max_colwidth = 100"
   ]
  },
  {
   "cell_type": "markdown",
   "metadata": {},
   "source": [
    "# Categorías"
   ]
  },
  {
   "cell_type": "code",
   "execution_count": null,
   "metadata": {},
   "outputs": [],
   "source": [
    "getCategories()"
   ]
  },
  {
   "cell_type": "markdown",
   "metadata": {},
   "source": [
    "### Para la selección de categorías:"
   ]
  },
  {
   "cell_type": "markdown",
   "metadata": {},
   "source": [
    "#### La idea de usar solo el búscador de categorías para armar el dataset, es porque el buscador por query puede traer resultados que estan relacionados al producto, pero no lo son, en cambio el búscador por categorías es bastante preciso en los productos que devuelve.\n",
    "#### Dado que no estoy usando un acess token para traer mas de 1000 resultados por categoría, decidí que la mejor manera de capitalizar la cantidad de productos disponibles era usar el búscador de categorías."
   ]
  },
  {
   "cell_type": "markdown",
   "metadata": {},
   "source": [
    "## Categorías elegidas para el estudio\n",
    "* MLA1002 (televisores)\n",
    "* MLA1055 (celulares y smartphones)\n",
    "* MLA398582 (Heladeras)\n",
    "* MLA1644 (Aires Acondicionados)\n",
    "* MLA438566 (Consolas)\n",
    "* MLA1652 (Notebooks)\n",
    "\n",
    "#### Las categorías elegidas representan, aquellas que según mi criterio son muy populares por los usuarios de MeLi"
   ]
  },
  {
   "cell_type": "code",
   "execution_count": null,
   "metadata": {},
   "outputs": [],
   "source": [
    "seleted_categories = {\n",
    "    'MLA1002': 'televisores', \n",
    "    'MLA1055': 'celulares',\n",
    "    'MLA398582': 'heladeras',\n",
    "    'MLA1644': 'aires',\n",
    "    'MLA438566': 'consolas',\n",
    "    'MLA1652': 'notebooks'\n",
    "}"
   ]
  },
  {
   "cell_type": "code",
   "execution_count": null,
   "metadata": {},
   "outputs": [],
   "source": [
    "categories_products = pd.DataFrame(columns=['id', 'site_id', 'title', 'seller', 'price', 'prices', 'sale_price',\n",
    "       'currency_id', 'available_quantity', 'sold_quantity', 'buying_mode',\n",
    "       'listing_type_id', 'stop_time', 'condition', 'permalink', 'thumbnail',\n",
    "       'thumbnail_id', 'accepts_mercadopago', 'installments', 'address',\n",
    "       'shipping', 'seller_address', 'attributes', 'differential_pricing',\n",
    "       'original_price', 'category_id', 'official_store_id', 'domain_id',\n",
    "       'catalog_product_id', 'tags', 'catalog_listing', 'order_backend'])"
   ]
  },
  {
   "cell_type": "markdown",
   "metadata": {},
   "source": [
    "### Extraigo publicaciones de las categorías elegidas"
   ]
  },
  {
   "cell_type": "code",
   "execution_count": null,
   "metadata": {},
   "outputs": [],
   "source": [
    "for cat, cat_name in seleted_categories.items():\n",
    "    sub = searchItemsByCategory(cat)\n",
    "    print(\"Bajando publicaciones de: {}-{}\".format(cat,cat_name))\n",
    "    sub['category'] = cat_name\n",
    "    print(\"Resultados: {}\".format(sub.id.count()))\n",
    "    categories_products = pd.concat([categories_products, sub], sort=False)"
   ]
  },
  {
   "cell_type": "markdown",
   "metadata": {},
   "source": [
    "### Extraigo el detalle de cada publicación porque tienen mas features que el buscador general o mas detalles de cada una"
   ]
  },
  {
   "cell_type": "code",
   "execution_count": null,
   "metadata": {},
   "outputs": [],
   "source": [
    "items = searchItemsDetail(categories_products)"
   ]
  },
  {
   "cell_type": "markdown",
   "metadata": {},
   "source": [
    "### Guardado de dataframes (correr solo si no existen los archivos)"
   ]
  },
  {
   "cell_type": "code",
   "execution_count": null,
   "metadata": {},
   "outputs": [],
   "source": [
    "items.to_csv(\"data/items.csv\", index=False)\n",
    "categories_products.to_csv(\"data/categories_products.csv\", index=False)"
   ]
  },
  {
   "cell_type": "markdown",
   "metadata": {},
   "source": [
    "### Cargado si ya existen (correr si existen los archivos)"
   ]
  },
  {
   "cell_type": "code",
   "execution_count": null,
   "metadata": {},
   "outputs": [],
   "source": [
    "#categories_products = pd.read_csv(\"data/categories_products.csv\")\n",
    "#items = pd.read_csv(\"data/items.csv\")"
   ]
  },
  {
   "cell_type": "markdown",
   "metadata": {},
   "source": [
    "### Combino ambos sets"
   ]
  },
  {
   "cell_type": "code",
   "execution_count": null,
   "metadata": {},
   "outputs": [],
   "source": [
    "results = pd.merge(categories_products, items, left_on='id', right_on='id', how=\"left\", suffixes=('', '_y'), )\n",
    "results = results.filter(regex=r'.*(?<!_y)$')"
   ]
  },
  {
   "cell_type": "markdown",
   "metadata": {},
   "source": [
    "### Algunas columnas que me parecieron interesantes tenerlas para el análisis o para la generación de features"
   ]
  },
  {
   "cell_type": "code",
   "execution_count": null,
   "metadata": {},
   "outputs": [],
   "source": [
    "results['discount_per'] = results.apply(lambda x: 0 if np.isnan(x.original_price) else int(100 - (x.price / x.original_price)*100),\n",
    "                                               axis=1) ## Porcentaje de descuento\n",
    "results['installment_num'] = results.apply(lambda x: get_installments_data(x, 'quantity'), axis=1) ## Cantidad de cuotas\n",
    "results['installment_rate'] = results.apply(lambda x: get_installments_data(x, 'rate'), axis=1) ## Interés de las cuotas\n",
    "results['brand'] = results.apply(lambda x: get_brand(x), axis=1) ## Marca\n",
    "results['seller_status'] = results.seller.apply(lambda x: get_seller_rep(x)) ## Rating del seller\n",
    "results['pic_qty'] = results.pictures.apply(lambda x: get_picture_qty(x)) ## Cantidad de imagenes\n",
    "results['has_video'] = results.video_id.apply(lambda x: not (x is None)).astype('int') ## Tiene video\n",
    "results['warrant_time'] = results.apply(lambda x: get_warrant_time(x), axis=1) ## Meses de garantía\n",
    "results['is_official'] = results.official_store_id.apply(lambda x: math.isnan(x)).astype('int') ##Es tienda oficial \n",
    "results['has_free_shipping'] = results.shipping.apply(lambda x: x['free_shipping']).astype('int') ## Tiene envío gratuito\n",
    "results['qty_attributes'] = results.attributes.apply(len) ## Cuantos atributos hay cargados, este era el mas cross para múltiples categorías\n",
    "results['qty_variations'] = results.variations.apply(lambda x: variations_qty(x)) ## Cuantas variaciones hay de cada publicación\n",
    "\n",
    "results = results.astype({\"sold_quantity\": int, \"available_quantity\": int})\n",
    "results = results.astype({\"date_created\": \"datetime64\"})\n",
    "results = results.astype({\"last_updated\": \"datetime64\"})\n",
    "\n",
    "results['created_date_diff'] = results.date_created.apply(lambda x: (datetime.now() - x).days) ## Antiguedad en días de la publicación\n",
    "results['created_date_diff_decile'] = pd.qcut(results.created_date_diff, 10, labels=np.arange(10, 0, -1)) ## Antiguedad dividida en deciles\n",
    "results['last_update_date_diff'] = results.date_created.apply(lambda x: (datetime.now() - x).days) ## Antiguedad desde último update a hoy\n",
    "results['last_update_diff_decile'] = pd.qcut(results.last_update_date_diff, 10, labels=np.arange(10, 0, -1)) ## Antiguedad del último update en deciles\n",
    "results['price_decile'] = pd.qcut(results.price, 10, labels=np.arange(10, 0, -1)) ## Precio en deciles"
   ]
  },
  {
   "cell_type": "code",
   "execution_count": null,
   "metadata": {},
   "outputs": [],
   "source": [
    "results.to_csv('data/training_data.csv', index=False, na_rep='NULL') ## Guardo para usarlo en la generación del modelo"
   ]
  },
  {
   "cell_type": "code",
   "execution_count": null,
   "metadata": {},
   "outputs": [],
   "source": []
  },
  {
   "cell_type": "code",
   "execution_count": null,
   "metadata": {},
   "outputs": [],
   "source": []
  }
 ],
 "metadata": {
  "kernelspec": {
   "display_name": "Python 3",
   "language": "python",
   "name": "python3"
  },
  "language_info": {
   "codemirror_mode": {
    "name": "ipython",
    "version": 3
   },
   "file_extension": ".py",
   "mimetype": "text/x-python",
   "name": "python",
   "nbconvert_exporter": "python",
   "pygments_lexer": "ipython3",
   "version": "3.8.5"
  }
 },
 "nbformat": 4,
 "nbformat_minor": 4
}
