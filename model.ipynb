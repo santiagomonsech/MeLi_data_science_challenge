{
 "cells": [
  {
   "cell_type": "code",
   "execution_count": null,
   "metadata": {},
   "outputs": [],
   "source": [
    "import sys\n",
    "sys.path.insert(1, 'utils')\n",
    "from utils import *\n",
    "from data_manipulation import *\n",
    "pd.options.display.max_colwidth = 100"
   ]
  },
  {
   "cell_type": "code",
   "execution_count": null,
   "metadata": {},
   "outputs": [],
   "source": [
    "dataset = pd.read_csv('data/training_data.csv')"
   ]
  },
  {
   "cell_type": "markdown",
   "metadata": {},
   "source": [
    "### Un vistazo a las features"
   ]
  },
  {
   "cell_type": "code",
   "execution_count": null,
   "metadata": {},
   "outputs": [],
   "source": [
    "dataset.info()"
   ]
  },
  {
   "cell_type": "code",
   "execution_count": null,
   "metadata": {},
   "outputs": [],
   "source": [
    "from sklearn.preprocessing import OneHotEncoder\n",
    "from sklearn.neighbors import KNeighborsRegressor\n",
    "from sklearn.ensemble import RandomForestRegressor\n",
    "from sklearn.linear_model import Lasso\n",
    "from sklearn.ensemble import GradientBoostingRegressor\n",
    "from sklearn.model_selection import GridSearchCV\n",
    "from sklearn.metrics import r2_score\n",
    "from sklearn.metrics import mean_squared_error"
   ]
  },
  {
   "cell_type": "code",
   "execution_count": null,
   "metadata": {},
   "outputs": [],
   "source": [
    "from sklearn.model_selection import train_test_split"
   ]
  },
  {
   "cell_type": "markdown",
   "metadata": {},
   "source": [
    "### Un poco de limpieza"
   ]
  },
  {
   "cell_type": "code",
   "execution_count": null,
   "metadata": {},
   "outputs": [],
   "source": [
    "dataset['warrant_time'] = dataset.warrant_time.fillna(0)\n",
    "dataset['seller_status'] = dataset.seller_status.fillna('N/A')\n",
    "\n",
    "dataset.dropna(subset=['initial_quantity', 'created_date_diff_decile', 'last_update_diff_decile'], inplace=True)\n",
    "dataset.reset_index(drop=True, inplace=True)"
   ]
  },
  {
   "cell_type": "markdown",
   "metadata": {},
   "source": [
    "#### One Hot Encoding para las Variables categorícas"
   ]
  },
  {
   "cell_type": "code",
   "execution_count": null,
   "metadata": {},
   "outputs": [],
   "source": [
    "seller_status_columns = [\"seller_status_{}\".format(idx) for idx,_val in enumerate(dataset.seller_status.unique())]\n",
    "pub_condition_columns = [\"pub_condition_{}\".format(idx) for idx,_val in enumerate(dataset.condition.unique())]"
   ]
  },
  {
   "cell_type": "code",
   "execution_count": null,
   "metadata": {},
   "outputs": [],
   "source": [
    "one_hot_encoder = OneHotEncoder(sparse=False)\n",
    "ohc = one_hot_encoder.fit_transform(dataset['seller_status'].values.reshape(-1,1))\n",
    "dataset = pd.concat([dataset, pd.DataFrame(ohc, columns=seller_status_columns)], axis=1)"
   ]
  },
  {
   "cell_type": "code",
   "execution_count": null,
   "metadata": {},
   "outputs": [],
   "source": [
    "one_hot_encoder = OneHotEncoder(sparse=False, )\n",
    "ohc = one_hot_encoder.fit_transform(dataset['condition'].values.reshape(-1,1))\n",
    "dataset = pd.concat([dataset, pd.DataFrame(ohc, columns=pub_condition_columns)], axis=1).reindex(dataset.index)"
   ]
  },
  {
   "cell_type": "markdown",
   "metadata": {},
   "source": [
    "## __Selección de features__"
   ]
  },
  {
   "cell_type": "code",
   "execution_count": null,
   "metadata": {},
   "outputs": [],
   "source": [
    "features = ['price', 'available_quantity', 'initial_quantity', 'discount_per', 'installment_num', 'installment_rate', \n",
    "            'pic_qty', 'created_date_diff', 'created_date_diff_decile','last_update_diff_decile', 'has_free_shipping',\n",
    "            'last_update_date_diff', 'warrant_time', 'is_official', 'has_video', 'qty_variations', 'qty_attributes'] +  seller_status_columns + pub_condition_columns\n",
    "\n",
    "predictors = dataset[features]\n",
    "predictors.isnull().any()"
   ]
  },
  {
   "cell_type": "code",
   "execution_count": null,
   "metadata": {},
   "outputs": [],
   "source": [
    "predictors.describe()"
   ]
  },
  {
   "cell_type": "markdown",
   "metadata": {},
   "source": [
    "## __Test Train Split__"
   ]
  },
  {
   "cell_type": "markdown",
   "metadata": {},
   "source": [
    "### Se tomará 20% de los datos para validación"
   ]
  },
  {
   "cell_type": "code",
   "execution_count": null,
   "metadata": {},
   "outputs": [],
   "source": [
    "target = dataset['sold_quantity']\n",
    "x_train, x_cv, y_train, y_cv = train_test_split(predictors, target, test_size=0.2, random_state=1)"
   ]
  },
  {
   "cell_type": "markdown",
   "metadata": {},
   "source": [
    "# __Modelos__"
   ]
  },
  {
   "cell_type": "markdown",
   "metadata": {},
   "source": [
    "### Cómo se trata de un problema de regresión donde tengo el target que quiero predecir, voy a utilizar modelos de tipo arbol y regresiones lineales pues estos generalmente dan buenos resultados inclusive con poca cantidad de features o la poca cantidad de datos utilizados, los modelos a comparar serán:\n",
    "* Gradient Boosting\n",
    "* Random Forest\n",
    "* Lasso (Regresión lineal con regularización Lasso)\n",
    "* KNN\n",
    "\n",
    "### Cómo medida de performance, voy a usar __R²__ para medir la performance del modelo, dado que este valor permite conocer que tanta dispersión hay en la variable independiente respecto de las variables independientes. Para comparar distintos modelos ademas voy a usar el __RMSE__. "
   ]
  },
  {
   "cell_type": "markdown",
   "metadata": {},
   "source": [
    "# Gradient Boosting"
   ]
  },
  {
   "cell_type": "markdown",
   "metadata": {},
   "source": [
    "### Voy a probar múltiples parámetros para encontrar el óptimo, solo con gradient boosting, pues es el que mejores resultados presento en comparación con los demás"
   ]
  },
  {
   "cell_type": "code",
   "execution_count": null,
   "metadata": {},
   "outputs": [],
   "source": [
    "rmse_models = []"
   ]
  },
  {
   "cell_type": "code",
   "execution_count": null,
   "metadata": {},
   "outputs": [],
   "source": [
    "params = [{'max_depth': [3,10,20], 'learning_rate': [0.0001, 0.01, 0.1, 0.5], 'n_estimators': [100, 150, 200, 250]}]\n",
    "\n",
    "gb = GridSearchCV(GradientBoostingRegressor(), params, cv=3)\n",
    "gb.fit(x_train, y_train)\n",
    "y_pred_gb = gb.predict(x_cv)\n",
    "gb_r2 = r2_score(y_cv, y_pred_gb)\n",
    "gb_mse = mean_squared_error(y_cv, y_pred_gb)\n",
    "gb_rmse = math.sqrt(gb_mse)\n",
    "rmse_models.append(['Gradient Boost', gb_rmse])\n",
    "print(\"R²: {}\\nMSE: {}\\nRMSE: {}\".format(gb_r2, gb_mse, gb_rmse ))"
   ]
  },
  {
   "cell_type": "markdown",
   "metadata": {},
   "source": [
    "## Los parámetros elegidos son:"
   ]
  },
  {
   "cell_type": "code",
   "execution_count": null,
   "metadata": {},
   "outputs": [],
   "source": [
    "gb.best_params_"
   ]
  },
  {
   "cell_type": "markdown",
   "metadata": {},
   "source": [
    "# Random Forest"
   ]
  },
  {
   "cell_type": "code",
   "execution_count": null,
   "metadata": {},
   "outputs": [],
   "source": [
    "rf = RandomForestRegressor(n_estimators=200)\n",
    "rf.fit(x_train, y_train)\n",
    "y_pred_rf = rf.predict(x_cv)\n",
    "rf_r2 = r2_score(y_cv, y_pred_rf)\n",
    "rf_mse = mean_squared_error(y_cv, y_pred_rf)\n",
    "rf_rmse = math.sqrt(rf_mse)\n",
    "rmse_models.append(['Random Forest', rf_rmse])\n",
    "print(\"R²: {}\\nMSE: {}\\nRMSE: {}\".format(rf_r2, rf_mse, rf_rmse ))"
   ]
  },
  {
   "cell_type": "markdown",
   "metadata": {},
   "source": [
    "# Lasso"
   ]
  },
  {
   "cell_type": "code",
   "execution_count": null,
   "metadata": {},
   "outputs": [],
   "source": [
    "lso = RandomForestRegressor(n_estimators=200)\n",
    "lso.fit(x_train, y_train)\n",
    "y_pred_lso = lso.predict(x_cv)\n",
    "lso_r2 = r2_score(y_cv, y_pred_lso)\n",
    "lso_mse = mean_squared_error(y_cv, y_pred_lso)\n",
    "lso_rmse = math.sqrt(lso_mse)\n",
    "rmse_models.append(['Lasso', lso_rmse])\n",
    "print(\"R²: {}\\nMSE: {}\\nRMSE: {}\".format(lso_r2, lso_mse, lso_rmse ))"
   ]
  },
  {
   "cell_type": "markdown",
   "metadata": {},
   "source": [
    "# KNN"
   ]
  },
  {
   "cell_type": "code",
   "execution_count": null,
   "metadata": {},
   "outputs": [],
   "source": [
    "knn = KNeighborsRegressor()\n",
    "knn.fit(x_train, y_train)\n",
    "y_pred_knn = knn.predict(x_cv)\n",
    "knn_r2 = r2_score(y_cv, y_pred_knn)\n",
    "knn_mse = mean_squared_error(y_cv, y_pred_knn)\n",
    "knn_rmse = math.sqrt(knn_mse)\n",
    "rmse_models.append(['KNN', knn_rmse])\n",
    "print(\"R²: {}\\nMSE: {}\\nRMSE: {}\".format(knn_r2, knn_mse, knn_rmse ))"
   ]
  },
  {
   "cell_type": "markdown",
   "metadata": {},
   "source": [
    "## __Resultados__"
   ]
  },
  {
   "cell_type": "code",
   "execution_count": null,
   "metadata": {},
   "outputs": [],
   "source": [
    "test_set = pd.concat([x_cv, y_cv], axis=1)\n",
    "test_set['y_pred'] = y_pred_gb\n",
    "test_set = test_set.join(pd.DataFrame(dataset.category), how='left')\n",
    "test_set_by_cat = test_set.groupby('category')\n",
    "\n",
    "r2_by_cat = []\n",
    "for cat, test in test_set_by_cat:\n",
    "    r2_by_cat.append([cat,math.sqrt(mean_squared_error(test.sold_quantity, test.y_pred))])\n",
    "r2_by_cat = pd.DataFrame(r2_by_cat, columns=['category', 'error'])"
   ]
  },
  {
   "cell_type": "code",
   "execution_count": null,
   "metadata": {},
   "outputs": [],
   "source": [
    "plt.figure(figsize = (15, 6))\n",
    "sns.set_theme(style=\"whitegrid\")\n",
    "ax = sns.barplot(x=\"category\", y=\"error\", data=r2_by_cat)\n",
    "ax.set_title(\"RMSE por cateogría\")\n",
    "ax.set(xlabel='Category', ylabel='R² Score')"
   ]
  },
  {
   "cell_type": "markdown",
   "metadata": {},
   "source": [
    "### Viendo el error cuadrático medio para las distintas categorías se puede ver que el modelo comete muchos errores al predecir la cantidad vendida de televisores en comparación con las otras categorías"
   ]
  },
  {
   "cell_type": "markdown",
   "metadata": {},
   "source": [
    "## __Comparando Modelos__"
   ]
  },
  {
   "cell_type": "code",
   "execution_count": null,
   "metadata": {},
   "outputs": [],
   "source": [
    "rmse_mod = pd.DataFrame(rmse_models, columns=['model', 'RMSE'])\n",
    "\n",
    "plt.figure(figsize = (15, 6))\n",
    "ax = sns.barplot(data=rmse_mod, x=\"model\", y=\"RMSE\")\n",
    "ax.set_title(\"RMSE por modelo\")\n",
    "ax.set(xlabel='Category', ylabel='RMSE')"
   ]
  },
  {
   "cell_type": "markdown",
   "metadata": {},
   "source": [
    "## Gráfico de los residuos para algunas features"
   ]
  },
  {
   "cell_type": "markdown",
   "metadata": {},
   "source": [
    "#### Calculo de residuo estandarizado"
   ]
  },
  {
   "cell_type": "code",
   "execution_count": null,
   "metadata": {},
   "outputs": [],
   "source": [
    "test_set['residual'] = test_set.sold_quantity - test_set.y_pred\n",
    "mean_residual = test_set.residual.mean()\n",
    "std_residual = test_set.residual.std()\n",
    "test_set['standard_residual'] = (test_set.residual - mean_residual)/std_residual"
   ]
  },
  {
   "cell_type": "code",
   "execution_count": null,
   "metadata": {},
   "outputs": [],
   "source": [
    "plt.figure(figsize = (15, 6))\n",
    "ax = sns.residplot(data=test_set, x='price', y='standard_residual')\n",
    "ax.set_title(\"Standarized residual plot\")\n",
    "ax.set(xlabel='Price', ylabel='Residuo estandarizado')"
   ]
  },
  {
   "cell_type": "code",
   "execution_count": null,
   "metadata": {},
   "outputs": [],
   "source": [
    "plt.figure(figsize = (15, 6))\n",
    "ax = sns.residplot(data=test_set, x='initial_quantity', y='standard_residual')\n",
    "ax.set_title(\"Standarized residual plot\")\n",
    "ax.set(xlabel='initial_quantity', ylabel='Residuo estandarizado')"
   ]
  },
  {
   "cell_type": "code",
   "execution_count": null,
   "metadata": {},
   "outputs": [],
   "source": [
    "plt.figure(figsize = (15, 6))\n",
    "ax = sns.residplot(data=test_set, x='is_official', y='standard_residual')\n",
    "ax.set_title(\"Standarized residual plot\")\n",
    "ax.set(xlabel='is_official', ylabel='Residuo estandarizado')"
   ]
  },
  {
   "cell_type": "markdown",
   "metadata": {},
   "source": [
    "### __Feature Importances Gradient Boost__"
   ]
  },
  {
   "cell_type": "markdown",
   "metadata": {},
   "source": [
    "### Para ver un poco como se comportaron las features del Gradient Boost, calculo el feature importance y estas podrán apreciarse en la siguiente visualización"
   ]
  },
  {
   "cell_type": "code",
   "execution_count": null,
   "metadata": {},
   "outputs": [],
   "source": [
    "importances = list(gb.best_estimator_.feature_importances_)"
   ]
  },
  {
   "cell_type": "code",
   "execution_count": null,
   "metadata": {},
   "outputs": [],
   "source": [
    "fig = plt.figure(figsize=(25, 5))\n",
    "ax = fig.add_subplot(111)\n",
    "x_values = list(range(len(importances)))\n",
    "ax.bar(x_values, importances, orientation = 'vertical')\n",
    "plt.xticks(x_values, features, rotation='vertical', fontsize=12)\n",
    "plt.ylabel('Importance'); plt.xlabel('Variable'); plt.title('Feature Importances');\n"
   ]
  }
 ],
 "metadata": {
  "kernelspec": {
   "display_name": "Python 3",
   "language": "python",
   "name": "python3"
  },
  "language_info": {
   "codemirror_mode": {
    "name": "ipython",
    "version": 3
   },
   "file_extension": ".py",
   "mimetype": "text/x-python",
   "name": "python",
   "nbconvert_exporter": "python",
   "pygments_lexer": "ipython3",
   "version": "3.8.5"
  }
 },
 "nbformat": 4,
 "nbformat_minor": 4
}
