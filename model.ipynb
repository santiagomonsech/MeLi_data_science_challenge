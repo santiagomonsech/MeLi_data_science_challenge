{
 "cells": [
  {
   "cell_type": "code",
   "execution_count": 1,
   "metadata": {},
   "outputs": [],
   "source": [
    "import sys\n",
    "sys.path.insert(1, 'utils')\n",
    "from utils import *\n",
    "from data_manipulation import *\n",
    "pd.options.display.max_colwidth = 100"
   ]
  },
  {
   "cell_type": "code",
   "execution_count": 2,
   "metadata": {},
   "outputs": [],
   "source": [
    "dataset = pd.read_csv('data/training_data.csv')"
   ]
  },
  {
   "cell_type": "markdown",
   "metadata": {},
   "source": [
    "### Un vistazo a las features"
   ]
  },
  {
   "cell_type": "code",
   "execution_count": 3,
   "metadata": {},
   "outputs": [
    {
     "name": "stdout",
     "output_type": "stream",
     "text": [
      "<class 'pandas.core.frame.DataFrame'>\n",
      "RangeIndex: 5930 entries, 0 to 5929\n",
      "Data columns (total 78 columns):\n",
      " #   Column                            Non-Null Count  Dtype  \n",
      "---  ------                            --------------  -----  \n",
      " 0   id                                5930 non-null   object \n",
      " 1   site_id                           5930 non-null   object \n",
      " 2   title                             5930 non-null   object \n",
      " 3   seller                            5930 non-null   object \n",
      " 4   price                             5930 non-null   float64\n",
      " 5   prices                            5927 non-null   object \n",
      " 6   sale_price                        0 non-null      float64\n",
      " 7   currency_id                       5930 non-null   object \n",
      " 8   available_quantity                5930 non-null   int64  \n",
      " 9   sold_quantity                     5930 non-null   int64  \n",
      " 10  buying_mode                       5930 non-null   object \n",
      " 11  listing_type_id                   5930 non-null   object \n",
      " 12  stop_time                         5930 non-null   object \n",
      " 13  condition                         5930 non-null   object \n",
      " 14  permalink                         5930 non-null   object \n",
      " 15  thumbnail                         5930 non-null   object \n",
      " 16  thumbnail_id                      5846 non-null   object \n",
      " 17  accepts_mercadopago               5930 non-null   bool   \n",
      " 18  installments                      5922 non-null   object \n",
      " 19  address                           5930 non-null   object \n",
      " 20  shipping                          5930 non-null   object \n",
      " 21  seller_address                    5930 non-null   object \n",
      " 22  attributes                        5930 non-null   object \n",
      " 23  differential_pricing              1665 non-null   object \n",
      " 24  original_price                    591 non-null    float64\n",
      " 25  category_id                       5930 non-null   object \n",
      " 26  official_store_id                 788 non-null    float64\n",
      " 27  domain_id                         5930 non-null   object \n",
      " 28  catalog_product_id                4646 non-null   object \n",
      " 29  tags                              5930 non-null   object \n",
      " 30  catalog_listing                   554 non-null    object \n",
      " 31  order_backend                     5930 non-null   int64  \n",
      " 32  use_thumbnail_id                  5930 non-null   bool   \n",
      " 33  category                          5930 non-null   object \n",
      " 34  subtitle                          0 non-null      float64\n",
      " 35  seller_id                         5930 non-null   int64  \n",
      " 36  base_price                        5929 non-null   float64\n",
      " 37  initial_quantity                  5929 non-null   float64\n",
      " 38  sale_terms                        5929 non-null   object \n",
      " 39  start_time                        5930 non-null   object \n",
      " 40  secure_thumbnail                  5929 non-null   object \n",
      " 41  pictures                          5929 non-null   object \n",
      " 42  video_id                          421 non-null    object \n",
      " 43  descriptions                      5929 non-null   object \n",
      " 44  non_mercado_pago_payment_methods  5929 non-null   object \n",
      " 45  international_delivery_mode       5929 non-null   object \n",
      " 46  seller_contact                    0 non-null      float64\n",
      " 47  location                          5929 non-null   object \n",
      " 48  coverage_areas                    5929 non-null   object \n",
      " 49  warnings                          5929 non-null   object \n",
      " 50  listing_source                    0 non-null      float64\n",
      " 51  variations                        5929 non-null   object \n",
      " 52  status                            5930 non-null   object \n",
      " 53  sub_status                        5929 non-null   object \n",
      " 54  warranty                          5484 non-null   object \n",
      " 55  parent_item_id                    249 non-null    object \n",
      " 56  deal_ids                          5929 non-null   object \n",
      " 57  automatic_relist                  5929 non-null   object \n",
      " 58  date_created                      5930 non-null   object \n",
      " 59  last_updated                      5930 non-null   object \n",
      " 60  health                            5369 non-null   float64\n",
      " 61  discount_per                      5930 non-null   int64  \n",
      " 62  installment_num                   5930 non-null   int64  \n",
      " 63  installment_rate                  5930 non-null   float64\n",
      " 64  brand                             5926 non-null   object \n",
      " 65  seller_status                     4134 non-null   object \n",
      " 66  pic_qty                           5930 non-null   int64  \n",
      " 67  has_video                         5930 non-null   int64  \n",
      " 68  warrant_time                      4405 non-null   float64\n",
      " 69  is_official                       5930 non-null   int64  \n",
      " 70  has_free_shipping                 5930 non-null   int64  \n",
      " 71  qty_attributes                    5930 non-null   int64  \n",
      " 72  qty_variations                    5930 non-null   int64  \n",
      " 73  created_date_diff                 5930 non-null   int64  \n",
      " 74  created_date_diff_decile          5930 non-null   int64  \n",
      " 75  last_update_date_diff             5930 non-null   int64  \n",
      " 76  last_update_diff_decile           5930 non-null   int64  \n",
      " 77  price_decile                      5930 non-null   int64  \n",
      "dtypes: bool(2), float64(12), int64(17), object(47)\n",
      "memory usage: 3.4+ MB\n"
     ]
    }
   ],
   "source": [
    "dataset.info()"
   ]
  },
  {
   "cell_type": "code",
   "execution_count": 4,
   "metadata": {},
   "outputs": [],
   "source": [
    "from sklearn.preprocessing import OneHotEncoder\n",
    "from sklearn.neighbors import KNeighborsRegressor\n",
    "from sklearn.ensemble import RandomForestRegressor\n",
    "from sklearn.linear_model import Lasso\n",
    "from sklearn.ensemble import GradientBoostingRegressor\n",
    "from sklearn.model_selection import GridSearchCV\n",
    "from sklearn.metrics import r2_score\n",
    "from sklearn.metrics import mean_squared_error"
   ]
  },
  {
   "cell_type": "code",
   "execution_count": 5,
   "metadata": {},
   "outputs": [],
   "source": [
    "from sklearn.model_selection import train_test_split"
   ]
  },
  {
   "cell_type": "markdown",
   "metadata": {},
   "source": [
    "### Un poco de limpieza"
   ]
  },
  {
   "cell_type": "code",
   "execution_count": 6,
   "metadata": {},
   "outputs": [],
   "source": [
    "dataset['warrant_time'] = dataset.warrant_time.fillna(0)\n",
    "dataset['seller_status'] = dataset.seller_status.fillna('N/A')\n",
    "\n",
    "dataset.dropna(subset=['initial_quantity', 'created_date_diff_decile', 'last_update_diff_decile'], inplace=True)\n",
    "dataset.reset_index(drop=True, inplace=True)"
   ]
  },
  {
   "cell_type": "markdown",
   "metadata": {},
   "source": [
    "#### One Hot Encoding para las Variables categorícas"
   ]
  },
  {
   "cell_type": "code",
   "execution_count": 7,
   "metadata": {},
   "outputs": [],
   "source": [
    "seller_status_columns = [\"seller_status_{}\".format(idx) for idx,_val in enumerate(dataset.seller_status.unique())]\n",
    "pub_condition_columns = [\"pub_condition_{}\".format(idx) for idx,_val in enumerate(dataset.condition.unique())]"
   ]
  },
  {
   "cell_type": "code",
   "execution_count": 8,
   "metadata": {},
   "outputs": [],
   "source": [
    "one_hot_encoder = OneHotEncoder(sparse=False)\n",
    "ohc = one_hot_encoder.fit_transform(dataset['seller_status'].values.reshape(-1,1))\n",
    "dataset = pd.concat([dataset, pd.DataFrame(ohc, columns=seller_status_columns)], axis=1)"
   ]
  },
  {
   "cell_type": "code",
   "execution_count": 9,
   "metadata": {},
   "outputs": [],
   "source": [
    "one_hot_encoder = OneHotEncoder(sparse=False, )\n",
    "ohc = one_hot_encoder.fit_transform(dataset['condition'].values.reshape(-1,1))\n",
    "dataset = pd.concat([dataset, pd.DataFrame(ohc, columns=pub_condition_columns)], axis=1).reindex(dataset.index)"
   ]
  },
  {
   "cell_type": "markdown",
   "metadata": {},
   "source": [
    "## __Selección de features__"
   ]
  },
  {
   "cell_type": "code",
   "execution_count": 10,
   "metadata": {},
   "outputs": [
    {
     "data": {
      "text/plain": [
       "price                       False\n",
       "available_quantity          False\n",
       "initial_quantity            False\n",
       "discount_per                False\n",
       "installment_num             False\n",
       "installment_rate            False\n",
       "pic_qty                     False\n",
       "created_date_diff           False\n",
       "created_date_diff_decile    False\n",
       "last_update_diff_decile     False\n",
       "has_free_shipping           False\n",
       "last_update_date_diff       False\n",
       "warrant_time                False\n",
       "is_official                 False\n",
       "has_video                   False\n",
       "qty_variations              False\n",
       "qty_attributes              False\n",
       "seller_status_0             False\n",
       "seller_status_1             False\n",
       "seller_status_2             False\n",
       "seller_status_3             False\n",
       "pub_condition_0             False\n",
       "pub_condition_1             False\n",
       "pub_condition_2             False\n",
       "dtype: bool"
      ]
     },
     "execution_count": 10,
     "metadata": {},
     "output_type": "execute_result"
    }
   ],
   "source": [
    "features = ['price', 'available_quantity', 'initial_quantity', 'discount_per', 'installment_num', 'installment_rate', \n",
    "            'pic_qty', 'created_date_diff', 'created_date_diff_decile','last_update_diff_decile', 'has_free_shipping',\n",
    "            'last_update_date_diff', 'warrant_time', 'is_official', 'has_video', 'qty_variations', 'qty_attributes'] +  seller_status_columns + pub_condition_columns\n",
    "\n",
    "predictors = dataset[features]\n",
    "predictors.isnull().any()"
   ]
  },
  {
   "cell_type": "code",
   "execution_count": 11,
   "metadata": {},
   "outputs": [
    {
     "data": {
      "text/html": [
       "<div>\n",
       "<style scoped>\n",
       "    .dataframe tbody tr th:only-of-type {\n",
       "        vertical-align: middle;\n",
       "    }\n",
       "\n",
       "    .dataframe tbody tr th {\n",
       "        vertical-align: top;\n",
       "    }\n",
       "\n",
       "    .dataframe thead th {\n",
       "        text-align: right;\n",
       "    }\n",
       "</style>\n",
       "<table border=\"1\" class=\"dataframe\">\n",
       "  <thead>\n",
       "    <tr style=\"text-align: right;\">\n",
       "      <th></th>\n",
       "      <th>price</th>\n",
       "      <th>available_quantity</th>\n",
       "      <th>initial_quantity</th>\n",
       "      <th>discount_per</th>\n",
       "      <th>installment_num</th>\n",
       "      <th>installment_rate</th>\n",
       "      <th>pic_qty</th>\n",
       "      <th>created_date_diff</th>\n",
       "      <th>created_date_diff_decile</th>\n",
       "      <th>last_update_diff_decile</th>\n",
       "      <th>...</th>\n",
       "      <th>has_video</th>\n",
       "      <th>qty_variations</th>\n",
       "      <th>qty_attributes</th>\n",
       "      <th>seller_status_0</th>\n",
       "      <th>seller_status_1</th>\n",
       "      <th>seller_status_2</th>\n",
       "      <th>seller_status_3</th>\n",
       "      <th>pub_condition_0</th>\n",
       "      <th>pub_condition_1</th>\n",
       "      <th>pub_condition_2</th>\n",
       "    </tr>\n",
       "  </thead>\n",
       "  <tbody>\n",
       "    <tr>\n",
       "      <th>count</th>\n",
       "      <td>5.929000e+03</td>\n",
       "      <td>5929.000000</td>\n",
       "      <td>5929.000000</td>\n",
       "      <td>5929.000000</td>\n",
       "      <td>5929.000000</td>\n",
       "      <td>5929.000000</td>\n",
       "      <td>5929.000000</td>\n",
       "      <td>5929.000000</td>\n",
       "      <td>5929.000000</td>\n",
       "      <td>5929.000000</td>\n",
       "      <td>...</td>\n",
       "      <td>5929.000000</td>\n",
       "      <td>5929.000000</td>\n",
       "      <td>5929.000000</td>\n",
       "      <td>5929.000000</td>\n",
       "      <td>5929.000000</td>\n",
       "      <td>5929.000000</td>\n",
       "      <td>5929.000000</td>\n",
       "      <td>5929.000000</td>\n",
       "      <td>5929.000000</td>\n",
       "      <td>5929.000000</td>\n",
       "    </tr>\n",
       "    <tr>\n",
       "      <th>mean</th>\n",
       "      <td>6.311270e+04</td>\n",
       "      <td>255.989712</td>\n",
       "      <td>460.749199</td>\n",
       "      <td>1.862709</td>\n",
       "      <td>11.641255</td>\n",
       "      <td>49.920233</td>\n",
       "      <td>5.505144</td>\n",
       "      <td>239.269691</td>\n",
       "      <td>5.508855</td>\n",
       "      <td>5.508855</td>\n",
       "      <td>...</td>\n",
       "      <td>0.071007</td>\n",
       "      <td>0.662169</td>\n",
       "      <td>5.573959</td>\n",
       "      <td>0.302749</td>\n",
       "      <td>0.064260</td>\n",
       "      <td>0.573284</td>\n",
       "      <td>0.059707</td>\n",
       "      <td>0.818519</td>\n",
       "      <td>0.000169</td>\n",
       "      <td>0.181312</td>\n",
       "    </tr>\n",
       "    <tr>\n",
       "      <th>std</th>\n",
       "      <td>1.481851e+05</td>\n",
       "      <td>3007.911347</td>\n",
       "      <td>4640.840901</td>\n",
       "      <td>6.317380</td>\n",
       "      <td>3.006121</td>\n",
       "      <td>31.796912</td>\n",
       "      <td>3.875511</td>\n",
       "      <td>321.591994</td>\n",
       "      <td>2.877790</td>\n",
       "      <td>2.877790</td>\n",
       "      <td>...</td>\n",
       "      <td>0.256858</td>\n",
       "      <td>0.702358</td>\n",
       "      <td>1.686246</td>\n",
       "      <td>0.459486</td>\n",
       "      <td>0.245237</td>\n",
       "      <td>0.494642</td>\n",
       "      <td>0.236962</td>\n",
       "      <td>0.385449</td>\n",
       "      <td>0.012987</td>\n",
       "      <td>0.385309</td>\n",
       "    </tr>\n",
       "    <tr>\n",
       "      <th>min</th>\n",
       "      <td>3.300000e+01</td>\n",
       "      <td>1.000000</td>\n",
       "      <td>1.000000</td>\n",
       "      <td>0.000000</td>\n",
       "      <td>0.000000</td>\n",
       "      <td>0.000000</td>\n",
       "      <td>1.000000</td>\n",
       "      <td>-1.000000</td>\n",
       "      <td>1.000000</td>\n",
       "      <td>1.000000</td>\n",
       "      <td>...</td>\n",
       "      <td>0.000000</td>\n",
       "      <td>0.000000</td>\n",
       "      <td>1.000000</td>\n",
       "      <td>0.000000</td>\n",
       "      <td>0.000000</td>\n",
       "      <td>0.000000</td>\n",
       "      <td>0.000000</td>\n",
       "      <td>0.000000</td>\n",
       "      <td>0.000000</td>\n",
       "      <td>0.000000</td>\n",
       "    </tr>\n",
       "    <tr>\n",
       "      <th>25%</th>\n",
       "      <td>2.038900e+04</td>\n",
       "      <td>1.000000</td>\n",
       "      <td>3.000000</td>\n",
       "      <td>0.000000</td>\n",
       "      <td>12.000000</td>\n",
       "      <td>0.000000</td>\n",
       "      <td>3.000000</td>\n",
       "      <td>49.000000</td>\n",
       "      <td>3.000000</td>\n",
       "      <td>3.000000</td>\n",
       "      <td>...</td>\n",
       "      <td>0.000000</td>\n",
       "      <td>0.000000</td>\n",
       "      <td>4.000000</td>\n",
       "      <td>0.000000</td>\n",
       "      <td>0.000000</td>\n",
       "      <td>0.000000</td>\n",
       "      <td>0.000000</td>\n",
       "      <td>1.000000</td>\n",
       "      <td>0.000000</td>\n",
       "      <td>0.000000</td>\n",
       "    </tr>\n",
       "    <tr>\n",
       "      <th>50%</th>\n",
       "      <td>4.649900e+04</td>\n",
       "      <td>1.000000</td>\n",
       "      <td>13.000000</td>\n",
       "      <td>0.000000</td>\n",
       "      <td>12.000000</td>\n",
       "      <td>70.170000</td>\n",
       "      <td>5.000000</td>\n",
       "      <td>123.000000</td>\n",
       "      <td>6.000000</td>\n",
       "      <td>6.000000</td>\n",
       "      <td>...</td>\n",
       "      <td>0.000000</td>\n",
       "      <td>1.000000</td>\n",
       "      <td>5.000000</td>\n",
       "      <td>0.000000</td>\n",
       "      <td>0.000000</td>\n",
       "      <td>1.000000</td>\n",
       "      <td>0.000000</td>\n",
       "      <td>1.000000</td>\n",
       "      <td>0.000000</td>\n",
       "      <td>0.000000</td>\n",
       "    </tr>\n",
       "    <tr>\n",
       "      <th>75%</th>\n",
       "      <td>7.799900e+04</td>\n",
       "      <td>1.000000</td>\n",
       "      <td>58.000000</td>\n",
       "      <td>0.000000</td>\n",
       "      <td>12.000000</td>\n",
       "      <td>70.170000</td>\n",
       "      <td>7.000000</td>\n",
       "      <td>258.000000</td>\n",
       "      <td>8.000000</td>\n",
       "      <td>8.000000</td>\n",
       "      <td>...</td>\n",
       "      <td>0.000000</td>\n",
       "      <td>1.000000</td>\n",
       "      <td>7.000000</td>\n",
       "      <td>1.000000</td>\n",
       "      <td>0.000000</td>\n",
       "      <td>1.000000</td>\n",
       "      <td>0.000000</td>\n",
       "      <td>1.000000</td>\n",
       "      <td>0.000000</td>\n",
       "      <td>0.000000</td>\n",
       "    </tr>\n",
       "    <tr>\n",
       "      <th>max</th>\n",
       "      <td>9.999999e+06</td>\n",
       "      <td>50000.000000</td>\n",
       "      <td>101174.000000</td>\n",
       "      <td>43.000000</td>\n",
       "      <td>18.000000</td>\n",
       "      <td>70.170000</td>\n",
       "      <td>50.000000</td>\n",
       "      <td>1903.000000</td>\n",
       "      <td>10.000000</td>\n",
       "      <td>10.000000</td>\n",
       "      <td>...</td>\n",
       "      <td>1.000000</td>\n",
       "      <td>6.000000</td>\n",
       "      <td>11.000000</td>\n",
       "      <td>1.000000</td>\n",
       "      <td>1.000000</td>\n",
       "      <td>1.000000</td>\n",
       "      <td>1.000000</td>\n",
       "      <td>1.000000</td>\n",
       "      <td>1.000000</td>\n",
       "      <td>1.000000</td>\n",
       "    </tr>\n",
       "  </tbody>\n",
       "</table>\n",
       "<p>8 rows × 24 columns</p>\n",
       "</div>"
      ],
      "text/plain": [
       "              price  available_quantity  initial_quantity  discount_per  \\\n",
       "count  5.929000e+03         5929.000000       5929.000000   5929.000000   \n",
       "mean   6.311270e+04          255.989712        460.749199      1.862709   \n",
       "std    1.481851e+05         3007.911347       4640.840901      6.317380   \n",
       "min    3.300000e+01            1.000000          1.000000      0.000000   \n",
       "25%    2.038900e+04            1.000000          3.000000      0.000000   \n",
       "50%    4.649900e+04            1.000000         13.000000      0.000000   \n",
       "75%    7.799900e+04            1.000000         58.000000      0.000000   \n",
       "max    9.999999e+06        50000.000000     101174.000000     43.000000   \n",
       "\n",
       "       installment_num  installment_rate      pic_qty  created_date_diff  \\\n",
       "count      5929.000000       5929.000000  5929.000000        5929.000000   \n",
       "mean         11.641255         49.920233     5.505144         239.269691   \n",
       "std           3.006121         31.796912     3.875511         321.591994   \n",
       "min           0.000000          0.000000     1.000000          -1.000000   \n",
       "25%          12.000000          0.000000     3.000000          49.000000   \n",
       "50%          12.000000         70.170000     5.000000         123.000000   \n",
       "75%          12.000000         70.170000     7.000000         258.000000   \n",
       "max          18.000000         70.170000    50.000000        1903.000000   \n",
       "\n",
       "       created_date_diff_decile  last_update_diff_decile  ...    has_video  \\\n",
       "count               5929.000000              5929.000000  ...  5929.000000   \n",
       "mean                   5.508855                 5.508855  ...     0.071007   \n",
       "std                    2.877790                 2.877790  ...     0.256858   \n",
       "min                    1.000000                 1.000000  ...     0.000000   \n",
       "25%                    3.000000                 3.000000  ...     0.000000   \n",
       "50%                    6.000000                 6.000000  ...     0.000000   \n",
       "75%                    8.000000                 8.000000  ...     0.000000   \n",
       "max                   10.000000                10.000000  ...     1.000000   \n",
       "\n",
       "       qty_variations  qty_attributes  seller_status_0  seller_status_1  \\\n",
       "count     5929.000000     5929.000000      5929.000000      5929.000000   \n",
       "mean         0.662169        5.573959         0.302749         0.064260   \n",
       "std          0.702358        1.686246         0.459486         0.245237   \n",
       "min          0.000000        1.000000         0.000000         0.000000   \n",
       "25%          0.000000        4.000000         0.000000         0.000000   \n",
       "50%          1.000000        5.000000         0.000000         0.000000   \n",
       "75%          1.000000        7.000000         1.000000         0.000000   \n",
       "max          6.000000       11.000000         1.000000         1.000000   \n",
       "\n",
       "       seller_status_2  seller_status_3  pub_condition_0  pub_condition_1  \\\n",
       "count      5929.000000      5929.000000      5929.000000      5929.000000   \n",
       "mean          0.573284         0.059707         0.818519         0.000169   \n",
       "std           0.494642         0.236962         0.385449         0.012987   \n",
       "min           0.000000         0.000000         0.000000         0.000000   \n",
       "25%           0.000000         0.000000         1.000000         0.000000   \n",
       "50%           1.000000         0.000000         1.000000         0.000000   \n",
       "75%           1.000000         0.000000         1.000000         0.000000   \n",
       "max           1.000000         1.000000         1.000000         1.000000   \n",
       "\n",
       "       pub_condition_2  \n",
       "count      5929.000000  \n",
       "mean          0.181312  \n",
       "std           0.385309  \n",
       "min           0.000000  \n",
       "25%           0.000000  \n",
       "50%           0.000000  \n",
       "75%           0.000000  \n",
       "max           1.000000  \n",
       "\n",
       "[8 rows x 24 columns]"
      ]
     },
     "execution_count": 11,
     "metadata": {},
     "output_type": "execute_result"
    }
   ],
   "source": [
    "predictors.describe()"
   ]
  },
  {
   "cell_type": "markdown",
   "metadata": {},
   "source": [
    "## __Test Train Split__"
   ]
  },
  {
   "cell_type": "markdown",
   "metadata": {},
   "source": [
    "### Se tomará 20% de los datos para validación"
   ]
  },
  {
   "cell_type": "code",
   "execution_count": 12,
   "metadata": {},
   "outputs": [],
   "source": [
    "target = dataset['sold_quantity']\n",
    "x_train, x_cv, y_train, y_cv = train_test_split(predictors, target, test_size=0.2, random_state=1)"
   ]
  },
  {
   "cell_type": "markdown",
   "metadata": {},
   "source": [
    "# __Modelos__"
   ]
  },
  {
   "cell_type": "markdown",
   "metadata": {},
   "source": [
    "### Cómo se trata de un problema de regresión donde tengo el target que quiero predecir, voy a utilizar modelos de tipo arbol y regresiones lineales pues estos generalmente dan buenos resultados inclusive con poca cantidad de features o la poca cantidad de datos utilizados, los modelos a comparar serán:\n",
    "* Gradient Boosting\n",
    "* Random Forest\n",
    "* Lasso (Regresión lineal con regularización Lasso)\n",
    "* KNN\n",
    "\n",
    "### Cómo medida de performance, voy a usar __R²__ para medir la performance del modelo, dado que este valor permite conocer que tanta dispersión hay en la variable independiente respecto de las variables independientes. Para comparar distintos modelos ademas voy a usar el __RMSE__. "
   ]
  },
  {
   "cell_type": "markdown",
   "metadata": {},
   "source": [
    "# Gradient Boosting"
   ]
  },
  {
   "cell_type": "markdown",
   "metadata": {},
   "source": [
    "### Voy a probar múltiples parámetros para encontrar el óptimo, solo con gradient boosting, pues es el que mejores resultados presento en comparación con los demás"
   ]
  },
  {
   "cell_type": "code",
   "execution_count": 13,
   "metadata": {},
   "outputs": [],
   "source": [
    "rmse_models = []"
   ]
  },
  {
   "cell_type": "code",
   "execution_count": null,
   "metadata": {},
   "outputs": [],
   "source": [
    "params = [{'max_depth': [3,10,20], 'learning_rate': [0.0001, 0.01, 0.1, 0.5], 'n_estimators': [100, 150, 200, 250]}]\n",
    "\n",
    "gb = GridSearchCV(GradientBoostingRegressor(), params, cv=3)\n",
    "gb.fit(x_train, y_train)\n",
    "y_pred_gb = gb.predict(x_cv)\n",
    "gb_r2 = r2_score(y_cv, y_pred_gb)\n",
    "gb_mse = mean_squared_error(y_cv, y_pred_gb)\n",
    "gb_rmse = math.sqrt(gb_mse)\n",
    "rmse_models.append(['Gradient Boost', gb_rmse])\n",
    "print(\"R²: {}\\nMSE: {}\\nRMSE: {}\".format(gb_r2, gb_mse, gb_rmse ))"
   ]
  },
  {
   "cell_type": "markdown",
   "metadata": {},
   "source": [
    "## Los parámetros elegidos son:"
   ]
  },
  {
   "cell_type": "code",
   "execution_count": null,
   "metadata": {},
   "outputs": [],
   "source": [
    "gb.best_params_"
   ]
  },
  {
   "cell_type": "markdown",
   "metadata": {},
   "source": [
    "# Random Forest"
   ]
  },
  {
   "cell_type": "code",
   "execution_count": null,
   "metadata": {},
   "outputs": [],
   "source": [
    "rf = RandomForestRegressor(n_estimators=200)\n",
    "rf.fit(x_train, y_train)\n",
    "y_pred_rf = rf.predict(x_cv)\n",
    "rf_r2 = r2_score(y_cv, y_pred_rf)\n",
    "rf_mse = mean_squared_error(y_cv, y_pred_rf)\n",
    "rf_rmse = math.sqrt(rf_mse)\n",
    "rmse_models.append(['Random Forest', rf_rmse])\n",
    "print(\"R²: {}\\nMSE: {}\\nRMSE: {}\".format(rf_r2, rf_mse, rf_rmse ))"
   ]
  },
  {
   "cell_type": "markdown",
   "metadata": {},
   "source": [
    "# Lasso"
   ]
  },
  {
   "cell_type": "code",
   "execution_count": null,
   "metadata": {},
   "outputs": [],
   "source": [
    "lso = RandomForestRegressor(n_estimators=200)\n",
    "lso.fit(x_train, y_train)\n",
    "y_pred_lso = lso.predict(x_cv)\n",
    "lso_r2 = r2_score(y_cv, y_pred_lso)\n",
    "lso_mse = mean_squared_error(y_cv, y_pred_lso)\n",
    "lso_rmse = math.sqrt(lso_mse)\n",
    "rmse_models.append(['Lasso', lso_rmse])\n",
    "print(\"R²: {}\\nMSE: {}\\nRMSE: {}\".format(lso_r2, lso_mse, lso_rmse ))"
   ]
  },
  {
   "cell_type": "markdown",
   "metadata": {},
   "source": [
    "# KNN"
   ]
  },
  {
   "cell_type": "code",
   "execution_count": null,
   "metadata": {},
   "outputs": [],
   "source": [
    "knn = KNeighborsRegressor()\n",
    "knn.fit(x_train, y_train)\n",
    "y_pred_knn = knn.predict(x_cv)\n",
    "knn_r2 = r2_score(y_cv, y_pred_knn)\n",
    "knn_mse = mean_squared_error(y_cv, y_pred_knn)\n",
    "knn_rmse = math.sqrt(knn_mse)\n",
    "rmse_models.append(['KNN', knn_rmse])\n",
    "print(\"R²: {}\\nMSE: {}\\nRMSE: {}\".format(knn_r2, knn_mse, knn_rmse ))"
   ]
  },
  {
   "cell_type": "markdown",
   "metadata": {},
   "source": [
    "## __Resultados__"
   ]
  },
  {
   "cell_type": "code",
   "execution_count": null,
   "metadata": {},
   "outputs": [],
   "source": [
    "test_set = pd.concat([x_cv, y_cv], axis=1)\n",
    "test_set['y_pred'] = y_pred_gb\n",
    "test_set = test_set.join(pd.DataFrame(dataset.category), how='left')\n",
    "test_set_by_cat = test_set.groupby('category')\n",
    "\n",
    "r2_by_cat = []\n",
    "for cat, test in test_set_by_cat:\n",
    "    r2_by_cat.append([cat,math.sqrt(mean_squared_error(test.sold_quantity, test.y_pred))])\n",
    "r2_by_cat = pd.DataFrame(r2_by_cat, columns=['category', 'error'])"
   ]
  },
  {
   "cell_type": "code",
   "execution_count": null,
   "metadata": {},
   "outputs": [],
   "source": [
    "plt.figure(figsize = (15, 6))\n",
    "sns.set_theme(style=\"whitegrid\")\n",
    "ax = sns.barplot(x=\"category\", y=\"error\", data=r2_by_cat)\n",
    "ax.set_title(\"RMSE por cateogría\")\n",
    "ax.set(xlabel='Category', ylabel='R² Score')"
   ]
  },
  {
   "cell_type": "markdown",
   "metadata": {},
   "source": [
    "### Viendo el error cuadrático medio para las distintas categorías se puede ver que el modelo comete muchos errores al predecir la cantidad vendida de televisores en comparación con las otras categorías"
   ]
  },
  {
   "cell_type": "markdown",
   "metadata": {},
   "source": [
    "## __Comparando Modelos__"
   ]
  },
  {
   "cell_type": "code",
   "execution_count": null,
   "metadata": {},
   "outputs": [],
   "source": [
    "rmse_mod = pd.DataFrame(rmse_models, columns=['model', 'RMSE'])\n",
    "\n",
    "plt.figure(figsize = (15, 6))\n",
    "ax = sns.barplot(data=rmse_mod, x=\"model\", y=\"RMSE\")\n",
    "ax.set_title(\"RMSE por modelo\")\n",
    "ax.set(xlabel='Category', ylabel='RMSE')"
   ]
  },
  {
   "cell_type": "markdown",
   "metadata": {},
   "source": [
    "## Gráfico de los residuos para algunas features"
   ]
  },
  {
   "cell_type": "markdown",
   "metadata": {},
   "source": [
    "#### Calculo de residuo estandarizado"
   ]
  },
  {
   "cell_type": "code",
   "execution_count": null,
   "metadata": {},
   "outputs": [],
   "source": [
    "test_set['residual'] = test_set.sold_quantity - test_set.y_pred\n",
    "mean_residual = test_set.residual.mean()\n",
    "std_residual = test_set.residual.std()\n",
    "test_set['standard_residual'] = (test_set.residual - mean_residual)/std_residual"
   ]
  },
  {
   "cell_type": "code",
   "execution_count": null,
   "metadata": {},
   "outputs": [],
   "source": [
    "plt.figure(figsize = (15, 6))\n",
    "ax = sns.residplot(data=test_set, x='price', y='standard_residual')\n",
    "ax.set_title(\"Standarized residual plot\")\n",
    "ax.set(xlabel='Price', ylabel='Residuo estandarizado')"
   ]
  },
  {
   "cell_type": "code",
   "execution_count": null,
   "metadata": {},
   "outputs": [],
   "source": [
    "plt.figure(figsize = (15, 6))\n",
    "ax = sns.residplot(data=test_set, x='initial_quantity', y='standard_residual')\n",
    "ax.set_title(\"Standarized residual plot\")\n",
    "ax.set(xlabel='initial_quantity', ylabel='Residuo estandarizado')"
   ]
  },
  {
   "cell_type": "code",
   "execution_count": null,
   "metadata": {},
   "outputs": [],
   "source": [
    "plt.figure(figsize = (15, 6))\n",
    "ax = sns.residplot(data=test_set, x='is_official', y='standard_residual')\n",
    "ax.set_title(\"Standarized residual plot\")\n",
    "ax.set(xlabel='is_official', ylabel='Residuo estandarizado')"
   ]
  },
  {
   "cell_type": "markdown",
   "metadata": {},
   "source": [
    "### __Feature Importances Gradient Boost__"
   ]
  },
  {
   "cell_type": "markdown",
   "metadata": {},
   "source": [
    "### Para ver un poco como se comportaron las features del Gradient Boost, calculo el feature importance y estas podrán apreciarse en la siguiente visualización"
   ]
  },
  {
   "cell_type": "code",
   "execution_count": null,
   "metadata": {},
   "outputs": [],
   "source": [
    "importances = list(gb.best_estimator_.feature_importances_)"
   ]
  },
  {
   "cell_type": "code",
   "execution_count": null,
   "metadata": {},
   "outputs": [],
   "source": [
    "fig = plt.figure(figsize=(25, 5))\n",
    "ax = fig.add_subplot(111)\n",
    "x_values = list(range(len(importances)))\n",
    "ax.bar(x_values, importances, orientation = 'vertical')\n",
    "plt.xticks(x_values, features, rotation='vertical', fontsize=12)\n",
    "plt.ylabel('Importance'); plt.xlabel('Variable'); plt.title('Feature Importances');\n"
   ]
  }
 ],
 "metadata": {
  "kernelspec": {
   "display_name": "Python 3",
   "language": "python",
   "name": "python3"
  },
  "language_info": {
   "codemirror_mode": {
    "name": "ipython",
    "version": 3
   },
   "file_extension": ".py",
   "mimetype": "text/x-python",
   "name": "python",
   "nbconvert_exporter": "python",
   "pygments_lexer": "ipython3",
   "version": "3.8.5"
  }
 },
 "nbformat": 4,
 "nbformat_minor": 4
}
